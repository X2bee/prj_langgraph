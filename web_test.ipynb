{
 "cells": [
  {
   "cell_type": "code",
   "execution_count": 37,
   "metadata": {},
   "outputs": [],
   "source": [
    "import os\n",
    "from selenium import webdriver\n",
    "from selenium.webdriver.common.by import By\n",
    "from selenium.webdriver.common.keys import Keys\n",
    "from bs4 import BeautifulSoup\n",
    "from langchain_openai import ChatOpenAI\n",
    "from langchain_core.prompts import ChatPromptTemplate, FewShotChatMessagePromptTemplate\n",
    "from typing import Annotated, Optional\n",
    "from typing_extensions import TypedDict\n"
   ]
  },
  {
   "cell_type": "code",
   "execution_count": null,
   "metadata": {},
   "outputs": [
    {
     "name": "stdout",
     "output_type": "stream",
     "text": [
      "content='The search box input element in the provided HTML data can be identified by its attributes. Here are the details:\\n\\n- **Type**: `text`\\n- **Title**: `검색어 입력`\\n- **Placeholder**: `상품명 또는 브랜드 입력`\\n- **Class**: `_searchInput_search_text_83jy9 _searchInput_placeholder_AG5yA _nlog_click`\\n\\nThe unique identifier for this search box input element is its **class** attribute, which is `_searchInput_search_text_83jy9 _searchInput_placeholder_AG5yA _nlog_click`. \\n\\nAdditionally, it has a **title** attribute of \"검색어 입력\" (which translates to \"Enter search term\") and a **placeholder** attribute that provides further context for the user.' additional_kwargs={'refusal': None} response_metadata={'token_usage': {'completion_tokens': 158, 'prompt_tokens': 1447, 'total_tokens': 1605, 'completion_tokens_details': {'accepted_prediction_tokens': 0, 'audio_tokens': 0, 'reasoning_tokens': 0, 'rejected_prediction_tokens': 0}, 'prompt_tokens_details': {'audio_tokens': 0, 'cached_tokens': 1280}}, 'model_name': 'gpt-4o-mini-2024-07-18', 'system_fingerprint': 'fp_3de1288069', 'finish_reason': 'stop', 'logprobs': None} id='run-4d56f802-7787-44e5-9bb7-a4994cbe11ae-0' usage_metadata={'input_tokens': 1447, 'output_tokens': 158, 'total_tokens': 1605, 'input_token_details': {'audio': 0, 'cache_read': 1280}, 'output_token_details': {'audio': 0, 'reasoning': 0}}\n"
     ]
    }
   ],
   "source": [
    "with open('./api_key/API_KEY.txt', 'r') as api:\n",
    "    os.environ[\"OPENAI_API_KEY\"] = api.read()\n",
    "    \n",
    "# 셀레니움 WebDriver 설정\n",
    "options = webdriver.ChromeOptions()\n",
    "options.add_argument(\"--start-maximized\")  # 창 최대화\n",
    "driver = webdriver.Chrome(options=options)\n",
    "\n",
    "# 웹페이지 접속\n",
    "url = \"https://shopping.naver.com/ns/home\"\n",
    "driver.get(url)\n",
    "\n",
    "all_elements = driver.find_elements(By.XPATH, \"//*\") \n",
    "input_elements = [elem for elem in all_elements if elem.tag_name.lower() == \"input\"]\n",
    "\n",
    "input_list = []\n",
    "for input_elem in input_elements:\n",
    "    input_list.append(input_elem.get_attribute('outerHTML'))\n",
    "input_list = \"\\n\".join(input_list)\n",
    "\n",
    "class Find_Searchbar(TypedDict):\n",
    "    query: Annotated[str, ..., \"Rewritten query to find appropriate material on the web\"]\n",
    "\n",
    "model = ChatOpenAI(model=\"gpt-4o-mini\", temperature=0)\n",
    "prompt = ChatPromptTemplate.from_messages(\n",
    "    [\n",
    "        (\"system\", \"You are an assistant skilled in analyzing HTML data.\"),\n",
    "        (\"human\", \"Analyze the following HTML data and identify the search box input element. Provide its unique identifier (e.g., ID, class, or name).\\n\\n{html}\"),\n",
    "    ]\n",
    ")\n",
    "\n",
    "chain = prompt | model\n",
    "\n",
    "response = chain.invoke({\"html\": input_list})\n",
    "print(response)\n",
    "driver.quit()\n",
    "\n",
    "\n"
   ]
  },
  {
   "cell_type": "code",
   "execution_count": 33,
   "metadata": {},
   "outputs": [
    {
     "data": {
      "text/plain": [
       "AIMessage(content='The search box input element in the provided HTML data can be identified by its attributes. Here are the details:\\n\\n- **Input Element**: \\n  ```html\\n  <input class=\"_searchInput_search_text_83jy9 _searchInput_placeholder_AG5yA _nlog_click\" \\n         data-shp-area=\"GNB.input\" \\n         data-shp-area-id=\"input\" \\n         data-shp-area-type=\"action\" \\n         data-shp-inventory=\"GNB\" \\n         data-shp-nsc=\"shopping2.home\" \\n         data-shp-page-key=\"100410625\" \\n         data-shp-sti=\"shopping\" \\n         maxlength=\"50\" \\n         placeholder=\"상품명 또는 브랜드 입력\" \\n         title=\"검색어 입력\" \\n         type=\"text\" \\n         value=\"\"/>\\n  ```\\n\\n### Unique Identifiers:\\n1. **Class**: `_searchInput_search_text_83jy9 _searchInput_placeholder_AG5yA _nlog_click`\\n2. **Placeholder**: `상품명 또는 브랜드 입력` (This translates to \"Enter product name or brand\" in English)\\n3. **Title**: `검색어 입력` (This translates to \"Enter search term\" in English)\\n\\n### Summary:\\nThe search box input element can be uniquely identified using its class name `_searchInput_search_text_83jy9`, or by its placeholder text.', additional_kwargs={'refusal': None}, response_metadata={'token_usage': {'completion_tokens': 288, 'prompt_tokens': 62379, 'total_tokens': 62667, 'completion_tokens_details': {'accepted_prediction_tokens': 0, 'audio_tokens': 0, 'reasoning_tokens': 0, 'rejected_prediction_tokens': 0}, 'prompt_tokens_details': {'audio_tokens': 0, 'cached_tokens': 0}}, 'model_name': 'gpt-4o-mini-2024-07-18', 'system_fingerprint': 'fp_bba3c8e70b', 'finish_reason': 'stop', 'logprobs': None}, id='run-cef6dc04-453f-4ed8-9542-f63956a48378-0', usage_metadata={'input_tokens': 62379, 'output_tokens': 288, 'total_tokens': 62667, 'input_token_details': {'audio': 0, 'cache_read': 0}, 'output_token_details': {'audio': 0, 'reasoning': 0}})"
      ]
     },
     "execution_count": 33,
     "metadata": {},
     "output_type": "execute_result"
    }
   ],
   "source": [
    "response"
   ]
  },
  {
   "cell_type": "code",
   "execution_count": 31,
   "metadata": {},
   "outputs": [],
   "source": [
    "# 작업 완료 후 드라이버 종료\n",
    "driver.quit()"
   ]
  },
  {
   "cell_type": "code",
   "execution_count": 23,
   "metadata": {},
   "outputs": [
    {
     "ename": "NoSuchElementException",
     "evalue": "Message: no such element: Unable to locate element: {\"method\":\"css selector\",\"selector\":\"[id=\"input\"]\"}\n  (Session info: chrome=130.0.6723.117); For documentation on this error, please visit: https://www.selenium.dev/documentation/webdriver/troubleshooting/errors#no-such-element-exception\nStacktrace:\n\tGetHandleVerifier [0x00007FF7026738A5+3004357]\n\t(No symbol) [0x00007FF702309970]\n\t(No symbol) [0x00007FF7021B582A]\n\t(No symbol) [0x00007FF702205B8E]\n\t(No symbol) [0x00007FF702205E7C]\n\t(No symbol) [0x00007FF70224EC27]\n\t(No symbol) [0x00007FF70222BC1F]\n\t(No symbol) [0x00007FF70224BA4C]\n\t(No symbol) [0x00007FF70222B983]\n\t(No symbol) [0x00007FF7021F7628]\n\t(No symbol) [0x00007FF7021F8791]\n\tGetHandleVerifier [0x00007FF70269A00D+3161901]\n\tGetHandleVerifier [0x00007FF7026EE060+3506048]\n\tGetHandleVerifier [0x00007FF7026E400D+3465005]\n\tGetHandleVerifier [0x00007FF702460EEB+830987]\n\t(No symbol) [0x00007FF70231467F]\n\t(No symbol) [0x00007FF7023109D4]\n\t(No symbol) [0x00007FF702310B6D]\n\t(No symbol) [0x00007FF702300149]\n\tBaseThreadInitThunk [0x00007FFCECA2259D+29]\n\tRtlUserThreadStart [0x00007FFCED22AF38+40]\n",
     "output_type": "error",
     "traceback": [
      "\u001b[1;31m---------------------------------------------------------------------------\u001b[0m",
      "\u001b[1;31mNoSuchElementException\u001b[0m                    Traceback (most recent call last)",
      "Cell \u001b[1;32mIn[23], line 1\u001b[0m\n\u001b[1;32m----> 1\u001b[0m input_element \u001b[38;5;241m=\u001b[39m \u001b[43mdriver\u001b[49m\u001b[38;5;241;43m.\u001b[39;49m\u001b[43mfind_element\u001b[49m\u001b[43m(\u001b[49m\u001b[43mBy\u001b[49m\u001b[38;5;241;43m.\u001b[39;49m\u001b[43mID\u001b[49m\u001b[43m,\u001b[49m\u001b[43m \u001b[49m\u001b[38;5;124;43m\"\u001b[39;49m\u001b[38;5;124;43minput\u001b[39;49m\u001b[38;5;124;43m\"\u001b[39;49m\u001b[43m)\u001b[49m  \u001b[38;5;66;03m# ID로 input 요소 찾기\u001b[39;00m\n\u001b[0;32m      3\u001b[0m \u001b[38;5;66;03m# 텍스트 입력\u001b[39;00m\n\u001b[0;32m      4\u001b[0m search_text \u001b[38;5;241m=\u001b[39m \u001b[38;5;124m\"\u001b[39m\u001b[38;5;124m노트북\u001b[39m\u001b[38;5;124m\"\u001b[39m  \u001b[38;5;66;03m# 검색할 텍스트\u001b[39;00m\n",
      "File \u001b[1;32mc:\\Users\\gkfua\\anaconda3\\envs\\lang_graph\\Lib\\site-packages\\selenium\\webdriver\\remote\\webdriver.py:766\u001b[0m, in \u001b[0;36mWebDriver.find_element\u001b[1;34m(self, by, value)\u001b[0m\n\u001b[0;32m    763\u001b[0m         \u001b[38;5;28;01mraise\u001b[39;00m NoSuchElementException(\u001b[38;5;124mf\u001b[39m\u001b[38;5;124m\"\u001b[39m\u001b[38;5;124mCannot locate relative element with: \u001b[39m\u001b[38;5;132;01m{\u001b[39;00mby\u001b[38;5;241m.\u001b[39mroot\u001b[38;5;132;01m}\u001b[39;00m\u001b[38;5;124m\"\u001b[39m)\n\u001b[0;32m    764\u001b[0m     \u001b[38;5;28;01mreturn\u001b[39;00m elements[\u001b[38;5;241m0\u001b[39m]\n\u001b[1;32m--> 766\u001b[0m \u001b[38;5;28;01mreturn\u001b[39;00m \u001b[38;5;28;43mself\u001b[39;49m\u001b[38;5;241;43m.\u001b[39;49m\u001b[43mexecute\u001b[49m\u001b[43m(\u001b[49m\u001b[43mCommand\u001b[49m\u001b[38;5;241;43m.\u001b[39;49m\u001b[43mFIND_ELEMENT\u001b[49m\u001b[43m,\u001b[49m\u001b[43m \u001b[49m\u001b[43m{\u001b[49m\u001b[38;5;124;43m\"\u001b[39;49m\u001b[38;5;124;43musing\u001b[39;49m\u001b[38;5;124;43m\"\u001b[39;49m\u001b[43m:\u001b[49m\u001b[43m \u001b[49m\u001b[43mby\u001b[49m\u001b[43m,\u001b[49m\u001b[43m \u001b[49m\u001b[38;5;124;43m\"\u001b[39;49m\u001b[38;5;124;43mvalue\u001b[39;49m\u001b[38;5;124;43m\"\u001b[39;49m\u001b[43m:\u001b[49m\u001b[43m \u001b[49m\u001b[43mvalue\u001b[49m\u001b[43m}\u001b[49m\u001b[43m)\u001b[49m[\u001b[38;5;124m\"\u001b[39m\u001b[38;5;124mvalue\u001b[39m\u001b[38;5;124m\"\u001b[39m]\n",
      "File \u001b[1;32mc:\\Users\\gkfua\\anaconda3\\envs\\lang_graph\\Lib\\site-packages\\selenium\\webdriver\\remote\\webdriver.py:380\u001b[0m, in \u001b[0;36mWebDriver.execute\u001b[1;34m(self, driver_command, params)\u001b[0m\n\u001b[0;32m    378\u001b[0m response \u001b[38;5;241m=\u001b[39m \u001b[38;5;28mself\u001b[39m\u001b[38;5;241m.\u001b[39mcommand_executor\u001b[38;5;241m.\u001b[39mexecute(driver_command, params)\n\u001b[0;32m    379\u001b[0m \u001b[38;5;28;01mif\u001b[39;00m response:\n\u001b[1;32m--> 380\u001b[0m     \u001b[38;5;28;43mself\u001b[39;49m\u001b[38;5;241;43m.\u001b[39;49m\u001b[43merror_handler\u001b[49m\u001b[38;5;241;43m.\u001b[39;49m\u001b[43mcheck_response\u001b[49m\u001b[43m(\u001b[49m\u001b[43mresponse\u001b[49m\u001b[43m)\u001b[49m\n\u001b[0;32m    381\u001b[0m     response[\u001b[38;5;124m\"\u001b[39m\u001b[38;5;124mvalue\u001b[39m\u001b[38;5;124m\"\u001b[39m] \u001b[38;5;241m=\u001b[39m \u001b[38;5;28mself\u001b[39m\u001b[38;5;241m.\u001b[39m_unwrap_value(response\u001b[38;5;241m.\u001b[39mget(\u001b[38;5;124m\"\u001b[39m\u001b[38;5;124mvalue\u001b[39m\u001b[38;5;124m\"\u001b[39m, \u001b[38;5;28;01mNone\u001b[39;00m))\n\u001b[0;32m    382\u001b[0m     \u001b[38;5;28;01mreturn\u001b[39;00m response\n",
      "File \u001b[1;32mc:\\Users\\gkfua\\anaconda3\\envs\\lang_graph\\Lib\\site-packages\\selenium\\webdriver\\remote\\errorhandler.py:229\u001b[0m, in \u001b[0;36mErrorHandler.check_response\u001b[1;34m(self, response)\u001b[0m\n\u001b[0;32m    227\u001b[0m         alert_text \u001b[38;5;241m=\u001b[39m value[\u001b[38;5;124m\"\u001b[39m\u001b[38;5;124malert\u001b[39m\u001b[38;5;124m\"\u001b[39m]\u001b[38;5;241m.\u001b[39mget(\u001b[38;5;124m\"\u001b[39m\u001b[38;5;124mtext\u001b[39m\u001b[38;5;124m\"\u001b[39m)\n\u001b[0;32m    228\u001b[0m     \u001b[38;5;28;01mraise\u001b[39;00m exception_class(message, screen, stacktrace, alert_text)  \u001b[38;5;66;03m# type: ignore[call-arg]  # mypy is not smart enough here\u001b[39;00m\n\u001b[1;32m--> 229\u001b[0m \u001b[38;5;28;01mraise\u001b[39;00m exception_class(message, screen, stacktrace)\n",
      "\u001b[1;31mNoSuchElementException\u001b[0m: Message: no such element: Unable to locate element: {\"method\":\"css selector\",\"selector\":\"[id=\"input\"]\"}\n  (Session info: chrome=130.0.6723.117); For documentation on this error, please visit: https://www.selenium.dev/documentation/webdriver/troubleshooting/errors#no-such-element-exception\nStacktrace:\n\tGetHandleVerifier [0x00007FF7026738A5+3004357]\n\t(No symbol) [0x00007FF702309970]\n\t(No symbol) [0x00007FF7021B582A]\n\t(No symbol) [0x00007FF702205B8E]\n\t(No symbol) [0x00007FF702205E7C]\n\t(No symbol) [0x00007FF70224EC27]\n\t(No symbol) [0x00007FF70222BC1F]\n\t(No symbol) [0x00007FF70224BA4C]\n\t(No symbol) [0x00007FF70222B983]\n\t(No symbol) [0x00007FF7021F7628]\n\t(No symbol) [0x00007FF7021F8791]\n\tGetHandleVerifier [0x00007FF70269A00D+3161901]\n\tGetHandleVerifier [0x00007FF7026EE060+3506048]\n\tGetHandleVerifier [0x00007FF7026E400D+3465005]\n\tGetHandleVerifier [0x00007FF702460EEB+830987]\n\t(No symbol) [0x00007FF70231467F]\n\t(No symbol) [0x00007FF7023109D4]\n\t(No symbol) [0x00007FF702310B6D]\n\t(No symbol) [0x00007FF702300149]\n\tBaseThreadInitThunk [0x00007FFCECA2259D+29]\n\tRtlUserThreadStart [0x00007FFCED22AF38+40]\n"
     ]
    }
   ],
   "source": [
    "input_element = driver.find_element(By.ID, \"input\")  # ID로 input 요소 찾기\n",
    "\n",
    "# 텍스트 입력\n",
    "search_text = \"노트북\"  # 검색할 텍스트\n",
    "input_element.send_keys(search_text)"
   ]
  },
  {
   "cell_type": "code",
   "execution_count": 17,
   "metadata": {},
   "outputs": [],
   "source": [
    "from selenium.webdriver.common.keys import Keys\n",
    "\n",
    "input_element.send_keys(Keys.RETURN)\n"
   ]
  },
  {
   "cell_type": "code",
   "execution_count": null,
   "metadata": {},
   "outputs": [],
   "source": []
  }
 ],
 "metadata": {
  "kernelspec": {
   "display_name": "lang_graph",
   "language": "python",
   "name": "python3"
  },
  "language_info": {
   "codemirror_mode": {
    "name": "ipython",
    "version": 3
   },
   "file_extension": ".py",
   "mimetype": "text/x-python",
   "name": "python",
   "nbconvert_exporter": "python",
   "pygments_lexer": "ipython3",
   "version": "3.11.10"
  }
 },
 "nbformat": 4,
 "nbformat_minor": 2
}
